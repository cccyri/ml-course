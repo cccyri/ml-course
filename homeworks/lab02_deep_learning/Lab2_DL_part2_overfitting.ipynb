{
  "cells": [
    {
      "cell_type": "markdown",
      "metadata": {
        "id": "NFmOh482SyEF"
      },
      "source": [
        "## Lab 2\n",
        "### Part 2: Dealing with overfitting"
      ]
    },
    {
      "cell_type": "markdown",
      "metadata": {
        "id": "AjzAuO3oSvsI"
      },
      "source": [
        "Today we work with [Fashion-MNIST dataset](https://github.com/zalandoresearch/fashion-mnist) (*hint: it is available in `torchvision`*).\n",
        "\n",
        "Your goal for today:\n",
        "1. Train a FC (fully-connected) network that achieves >= 0.885 test accuracy.\n",
        "2. Cause considerable overfitting by modifying the network (e.g. increasing the number of network parameters and/or layers) and demonstrate in in the appropriate way (e.g. plot loss and accurasy on train and validation set w.r.t. network complexity).\n",
        "3. Try to deal with overfitting (at least partially) by using regularization techniques (Dropout/Batchnorm/...) and demonstrate the results.\n",
        "\n",
        "__Please, write a small report describing your ideas, tries and achieved results in the end of this file.__\n",
        "\n",
        "*Note*: Tasks 2 and 3 are interrelated, in task 3 your goal is to make the network from task 2 less prone to overfitting. Task 1 is independent from 2 and 3.\n",
        "\n",
        "*Note 2*: We recomment to use Google Colab or other machine with GPU acceleration."
      ]
    },
    {
      "cell_type": "code",
      "execution_count": 55,
      "metadata": {
        "id": "_KBld6VOSwhW"
      },
      "outputs": [],
      "source": [
        "import torch\n",
        "import torch.nn as nn\n",
        "import torchvision\n",
        "import torchvision.transforms as transforms\n",
        "import torchsummary\n",
        "from IPython.display import clear_output\n",
        "from matplotlib import pyplot as plt\n",
        "from matplotlib.pyplot import figure\n",
        "import numpy as np\n",
        "import os\n",
        "from tqdm import tqdm\n",
        "\n",
        "\n",
        "device = 'cuda:0' if torch.cuda.is_available() else 'cpu'"
      ]
    },
    {
      "cell_type": "code",
      "execution_count": 56,
      "metadata": {
        "colab": {
          "base_uri": "https://localhost:8080/"
        },
        "id": "EdLOG0XqS_g5",
        "outputId": "f3fadf32-fb20-4128-92e8-5b41907c33d0"
      },
      "outputs": [
        {
          "output_type": "stream",
          "name": "stdout",
          "text": [
            "Directory fmnist already exists!\n"
          ]
        }
      ],
      "source": [
        "# Technical function\n",
        "def mkdir(path):\n",
        "    if not os.path.exists(root_path):\n",
        "        os.mkdir(root_path)\n",
        "        print('Directory', path, 'is created!')\n",
        "    else:\n",
        "        print('Directory', path, 'already exists!')\n",
        "        \n",
        "root_path = 'fmnist'\n",
        "mkdir(root_path)"
      ]
    },
    {
      "cell_type": "code",
      "execution_count": 58,
      "metadata": {
        "id": "qt6LE7XaTDT9"
      },
      "outputs": [],
      "source": [
        "download = True\n",
        "train_transform = transforms.ToTensor()\n",
        "test_transform = transforms.ToTensor()\n",
        "transforms.Compose((transforms.ToTensor()))\n",
        "\n",
        "\n",
        "fmnist_dataset_train = torchvision.datasets.FashionMNIST(root_path, \n",
        "                                                        train=True, \n",
        "                                                        transform=train_transform,\n",
        "                                                        target_transform=None,\n",
        "                                                        download=download)\n",
        "fmnist_dataset_test = torchvision.datasets.FashionMNIST(root_path, \n",
        "                                                       train=False, \n",
        "                                                       transform=test_transform,\n",
        "                                                       target_transform=None,\n",
        "                                                       download=download)"
      ]
    },
    {
      "cell_type": "code",
      "execution_count": 59,
      "metadata": {
        "id": "71YP0SPwTIxD"
      },
      "outputs": [],
      "source": [
        "train_loader = torch.utils.data.DataLoader(fmnist_dataset_train, \n",
        "                                           batch_size=128,\n",
        "                                           shuffle=True,\n",
        "                                           num_workers=2)\n",
        "test_loader = torch.utils.data.DataLoader(fmnist_dataset_test,\n",
        "                                          batch_size=256,\n",
        "                                          shuffle=False,\n",
        "                                          num_workers=2)"
      ]
    },
    {
      "cell_type": "code",
      "execution_count": 60,
      "metadata": {
        "colab": {
          "base_uri": "https://localhost:8080/"
        },
        "id": "v_YFmF7NTWrQ",
        "outputId": "9da0b4da-a7c7-480d-f68c-6707ac080bf2"
      },
      "outputs": [
        {
          "output_type": "execute_result",
          "data": {
            "text/plain": [
              "10000"
            ]
          },
          "metadata": {},
          "execution_count": 60
        }
      ],
      "source": [
        "len(fmnist_dataset_test)"
      ]
    },
    {
      "cell_type": "code",
      "execution_count": 61,
      "metadata": {
        "colab": {
          "base_uri": "https://localhost:8080/"
        },
        "id": "aHca15bOTY4B",
        "outputId": "61f8849f-8964-471e-af07-309e514acec0"
      },
      "outputs": [
        {
          "output_type": "stream",
          "name": "stdout",
          "text": [
            "torch.Size([128, 1, 28, 28])\n",
            "torch.Size([128])\n",
            "128\n"
          ]
        }
      ],
      "source": [
        "for img, label in train_loader:\n",
        "    print(img.shape)\n",
        "#     print(img)\n",
        "    print(label.shape)\n",
        "    print(label.size(0))\n",
        "    break"
      ]
    },
    {
      "cell_type": "markdown",
      "metadata": {
        "id": "b6OOOffHTfX5"
      },
      "source": [
        "### Task 1\n",
        "Train a network that achieves $\\geq 0.885$ test accuracy. It's fine to use only Linear (`nn.Linear`) layers and activations/dropout/batchnorm. Convolutional layers might be a great use, but we will meet them a bit later."
      ]
    },
    {
      "cell_type": "code",
      "execution_count": 62,
      "metadata": {
        "id": "ftpkTjxlTcFx"
      },
      "outputs": [],
      "source": [
        "class TinyNeuralNetwork(nn.Module):\n",
        "    def __init__(self, input_shape=28*28, num_classes=10, input_channels=1):\n",
        "        super(self.__class__, self).__init__()\n",
        "        self.model = nn.Sequential(\n",
        "            nn.Flatten(),\n",
        "            nn.BatchNorm1d(input_shape),\n",
        "            nn.ReLU(),\n",
        "            nn.Linear(input_shape, 64),\n",
        "            nn.BatchNorm1d(64),\n",
        "            nn.ReLU(),\n",
        "            nn.Linear(64, num_classes)\n",
        "        )\n",
        "        \n",
        "    def forward(self, inp):       \n",
        "        out = self.model(inp)\n",
        "        return out"
      ]
    },
    {
      "cell_type": "code",
      "execution_count": 63,
      "metadata": {
        "colab": {
          "base_uri": "https://localhost:8080/"
        },
        "id": "agn1DkkujJUS",
        "outputId": "3a78a023-cc4d-4b80-a51c-fbd0e3ab6705"
      },
      "outputs": [
        {
          "output_type": "stream",
          "name": "stdout",
          "text": [
            "----------------------------------------------------------------\n",
            "        Layer (type)               Output Shape         Param #\n",
            "================================================================\n",
            "           Flatten-1                  [-1, 784]               0\n",
            "       BatchNorm1d-2                  [-1, 784]           1,568\n",
            "              ReLU-3                  [-1, 784]               0\n",
            "            Linear-4                   [-1, 64]          50,240\n",
            "       BatchNorm1d-5                   [-1, 64]             128\n",
            "              ReLU-6                   [-1, 64]               0\n",
            "            Linear-7                   [-1, 10]             650\n",
            "================================================================\n",
            "Total params: 52,586\n",
            "Trainable params: 52,586\n",
            "Non-trainable params: 0\n",
            "----------------------------------------------------------------\n",
            "Input size (MB): 0.00\n",
            "Forward/backward pass size (MB): 0.02\n",
            "Params size (MB): 0.20\n",
            "Estimated Total Size (MB): 0.22\n",
            "----------------------------------------------------------------\n"
          ]
        }
      ],
      "source": [
        "torchsummary.summary(TinyNeuralNetwork().to(device), (28*28,))"
      ]
    },
    {
      "cell_type": "markdown",
      "metadata": {
        "id": "544PGKEnjPr5"
      },
      "source": [
        "Your experiments come here:"
      ]
    },
    {
      "cell_type": "code",
      "source": [
        "from tqdm import tqdm\n",
        "model = TinyNeuralNetwork().to(device)\n",
        "opt = torch.optim.AdamW(model.parameters(), lr=1e-3)\n",
        "loss_func = nn.CrossEntropyLoss()\n",
        "\n",
        "EPOCHS = 15\n",
        "best_val_loss = np.inf\n",
        "\n",
        "for epoch in range(EPOCHS):\n",
        "  training_loss = 0.0\n",
        "  model.train()\n",
        "  for batch, label in tqdm(train_loader):\n",
        "    opt.zero_grad()\n",
        "    batch = batch.to(device)\n",
        "    label = label.to(device)\n",
        "\n",
        "    pred = model(batch)\n",
        "\n",
        "    loss = loss_func(pred, label)\n",
        "    loss.backward()\n",
        "    opt.step()\n",
        "\n",
        "    training_loss += loss.item()\n",
        "\n",
        "  if epoch % 5 == 0:\n",
        "    valid_loss = 0.0\n",
        "    correct = 0\n",
        "    total = 0\n",
        "    model.eval()\n",
        "    for batch, label in tqdm(test_loader):\n",
        "      with torch.no_grad():\n",
        "        batch = batch.to(device)\n",
        "        label = label.to(device)\n",
        "        pred = model(batch)\n",
        "\n",
        "        for x, target in zip(torch.argmax(pred, axis=1), label):\n",
        "          if x == target:\n",
        "              correct += 1\n",
        "          total += 1\n",
        "        loss = loss_func(pred, label)\n",
        "        valid_loss += loss.item()\n",
        "    valid_loss = valid_loss / len(test_loader)\n",
        "\n",
        "    print(f\"EPOCH {epoch}, TRAIN_LOSS: {training_loss/len(train_loader)}\")\n",
        "    print(f\"EPOCH {epoch}, TEST_LOSS: {valid_loss}, TEST_ACC: {correct/total:.5f}\")"
      ],
      "metadata": {
        "colab": {
          "base_uri": "https://localhost:8080/"
        },
        "id": "BroSIzkz2pUw",
        "outputId": "cffe1def-06cd-480a-eee8-1856a1a1923f"
      },
      "execution_count": 64,
      "outputs": [
        {
          "output_type": "stream",
          "name": "stderr",
          "text": [
            "100%|██████████| 469/469 [00:07<00:00, 66.92it/s]\n",
            "100%|██████████| 40/40 [00:01<00:00, 31.53it/s]\n"
          ]
        },
        {
          "output_type": "stream",
          "name": "stdout",
          "text": [
            "EPOCH 0, TRAIN_LOSS: 0.6406789640627945\n",
            "EPOCH 0, TEST_LOSS: 0.4803323298692703, TEST_ACC: 0.83040\n"
          ]
        },
        {
          "output_type": "stream",
          "name": "stderr",
          "text": [
            "100%|██████████| 469/469 [00:06<00:00, 67.09it/s]\n",
            "100%|██████████| 469/469 [00:07<00:00, 66.73it/s]\n",
            "100%|██████████| 469/469 [00:06<00:00, 67.63it/s]\n",
            "100%|██████████| 469/469 [00:06<00:00, 67.04it/s]\n",
            "100%|██████████| 469/469 [00:06<00:00, 67.55it/s]\n",
            "100%|██████████| 40/40 [00:01<00:00, 32.04it/s]\n"
          ]
        },
        {
          "output_type": "stream",
          "name": "stdout",
          "text": [
            "EPOCH 5, TRAIN_LOSS: 0.29568473132116707\n",
            "EPOCH 5, TEST_LOSS: 0.390891245752573, TEST_ACC: 0.86350\n"
          ]
        },
        {
          "output_type": "stream",
          "name": "stderr",
          "text": [
            "100%|██████████| 469/469 [00:07<00:00, 66.95it/s]\n",
            "100%|██████████| 469/469 [00:06<00:00, 67.64it/s]\n",
            "100%|██████████| 469/469 [00:07<00:00, 66.98it/s]\n",
            "100%|██████████| 469/469 [00:06<00:00, 67.50it/s]\n",
            "100%|██████████| 469/469 [00:06<00:00, 67.12it/s]\n",
            "100%|██████████| 40/40 [00:01<00:00, 30.55it/s]\n"
          ]
        },
        {
          "output_type": "stream",
          "name": "stdout",
          "text": [
            "EPOCH 10, TRAIN_LOSS: 0.2349471567091403\n",
            "EPOCH 10, TEST_LOSS: 0.3583280470222235, TEST_ACC: 0.88220\n"
          ]
        },
        {
          "output_type": "stream",
          "name": "stderr",
          "text": [
            "100%|██████████| 469/469 [00:06<00:00, 67.54it/s]\n",
            "100%|██████████| 469/469 [00:06<00:00, 67.38it/s]\n",
            "100%|██████████| 469/469 [00:07<00:00, 66.33it/s]\n",
            "100%|██████████| 469/469 [00:07<00:00, 63.09it/s]\n"
          ]
        }
      ]
    },
    {
      "cell_type": "markdown",
      "metadata": {
        "id": "L7ISqkjmCPB1"
      },
      "source": [
        "### Task 2: Overfit it.\n",
        "Build a network that will overfit to this dataset. Demonstrate the overfitting in the appropriate way (e.g. plot loss and accurasy on train and test set w.r.t. network complexity).\n",
        "\n",
        "*Note:* you also might decrease the size of `train` dataset to enforce the overfitting and speed up the computations."
      ]
    },
    {
      "cell_type": "code",
      "execution_count": 66,
      "metadata": {
        "id": "H12uAWiGBwJx"
      },
      "outputs": [],
      "source": [
        "class OverfittingNeuralNetwork(nn.Module):\n",
        "    def __init__(self, input_shape=28*28, num_classes=10, input_channels=1):\n",
        "        super(self.__class__, self).__init__()\n",
        "        self.model = nn.Sequential(\n",
        "            nn.Flatten(),\n",
        "            nn.BatchNorm1d(input_shape),\n",
        "            nn.Linear(input_shape, 512),\n",
        "            nn.ReLU(),\n",
        "            nn.BatchNorm1d(512),\n",
        "            nn.Linear(512, 64),\n",
        "            nn.ReLU(),\n",
        "            nn.BatchNorm1d(64),\n",
        "            nn.Linear(64, 32),\n",
        "            nn.ReLU(),\n",
        "            nn.BatchNorm1d(32),\n",
        "            nn.Linear(32, num_classes)\n",
        "        )\n",
        "        \n",
        "    def forward(self, inp):       \n",
        "        out = self.model(inp)\n",
        "        return out"
      ]
    },
    {
      "cell_type": "code",
      "execution_count": 67,
      "metadata": {
        "colab": {
          "base_uri": "https://localhost:8080/"
        },
        "id": "JgXAKCpvCwqH",
        "outputId": "517f84f7-9966-41be-c41d-6a8c04f35d01"
      },
      "outputs": [
        {
          "output_type": "stream",
          "name": "stdout",
          "text": [
            "----------------------------------------------------------------\n",
            "        Layer (type)               Output Shape         Param #\n",
            "================================================================\n",
            "           Flatten-1                  [-1, 784]               0\n",
            "       BatchNorm1d-2                  [-1, 784]           1,568\n",
            "            Linear-3                  [-1, 512]         401,920\n",
            "              ReLU-4                  [-1, 512]               0\n",
            "       BatchNorm1d-5                  [-1, 512]           1,024\n",
            "            Linear-6                   [-1, 64]          32,832\n",
            "              ReLU-7                   [-1, 64]               0\n",
            "       BatchNorm1d-8                   [-1, 64]             128\n",
            "            Linear-9                   [-1, 32]           2,080\n",
            "             ReLU-10                   [-1, 32]               0\n",
            "      BatchNorm1d-11                   [-1, 32]              64\n",
            "           Linear-12                   [-1, 10]             330\n",
            "================================================================\n",
            "Total params: 439,946\n",
            "Trainable params: 439,946\n",
            "Non-trainable params: 0\n",
            "----------------------------------------------------------------\n",
            "Input size (MB): 0.00\n",
            "Forward/backward pass size (MB): 0.03\n",
            "Params size (MB): 1.68\n",
            "Estimated Total Size (MB): 1.71\n",
            "----------------------------------------------------------------\n"
          ]
        }
      ],
      "source": [
        "torchsummary.summary(OverfittingNeuralNetwork().to(device), (28*28,))"
      ]
    },
    {
      "cell_type": "code",
      "execution_count": 68,
      "metadata": {
        "colab": {
          "base_uri": "https://localhost:8080/"
        },
        "id": "YbrWv9xSjJUU",
        "outputId": "024095a5-fb53-43a2-e43f-160596cd7826"
      },
      "outputs": [
        {
          "output_type": "stream",
          "name": "stderr",
          "text": [
            "100%|██████████| 469/469 [00:08<00:00, 52.46it/s]\n",
            " 82%|████████▎ | 33/40 [00:01<00:00, 34.10it/s]Exception ignored in: <function _MultiProcessingDataLoaderIter.__del__ at 0x7f7ec6ca59d0>\n",
            "Traceback (most recent call last):\n",
            "  File \"/usr/local/lib/python3.8/dist-packages/torch/utils/data/dataloader.py\", line 1466, in __del__\n",
            "    self._shutdown_workers()\n",
            "  File \"/usr/local/lib/python3.8/dist-packages/torch/utils/data/dataloader.py\", line 1449, in _shutdown_workers\n",
            "    if w.is_alive():\n",
            "  File \"/usr/lib/python3.8/multiprocessing/process.py\", line 160, in is_alive\n",
            "    assert self._parent_pid == os.getpid(), 'can only test a child process'\n",
            "AssertionError: can only test a child process\n",
            " 92%|█████████▎| 37/40 [00:01<00:00, 23.80it/s]Exception ignored in: <function _MultiProcessingDataLoaderIter.__del__ at 0x7f7ec6ca59d0>\n",
            "Traceback (most recent call last):\n",
            "  File \"/usr/local/lib/python3.8/dist-packages/torch/utils/data/dataloader.py\", line 1466, in __del__\n",
            "    self._shutdown_workers()\n",
            "  File \"/usr/local/lib/python3.8/dist-packages/torch/utils/data/dataloader.py\", line 1449, in _shutdown_workers\n",
            "    if w.is_alive():\n",
            "  File \"/usr/lib/python3.8/multiprocessing/process.py\", line 160, in is_alive\n",
            "    assert self._parent_pid == os.getpid(), 'can only test a child process'\n",
            "AssertionError\n",
            "100%|██████████| 40/40 [00:01<00:00, 25.10it/s]\n"
          ]
        },
        {
          "output_type": "stream",
          "name": "stdout",
          "text": [
            "EPOCH 0, TRAIN_LOSS: 0.4647446774534071, TRAIN_ACC: 0.83225\n",
            "EPOCH 0, TEST_LOSS: 0.4245735161006451, TEST_ACC: 0.84550\n"
          ]
        },
        {
          "output_type": "stream",
          "name": "stderr",
          "text": [
            "100%|██████████| 469/469 [00:07<00:00, 60.75it/s]\n",
            "  6%|▌         | 26/469 [00:00<00:11, 37.04it/s]Exception ignored in: <function _MultiProcessingDataLoaderIter.__del__ at 0x7f7ec6ca59d0>\n",
            "Traceback (most recent call last):\n",
            "  File \"/usr/local/lib/python3.8/dist-packages/torch/utils/data/dataloader.py\", line 1466, in __del__\n",
            "    self._shutdown_workers()\n",
            "  File \"/usr/local/lib/python3.8/dist-packages/torch/utils/data/dataloader.py\", line 1449, in _shutdown_workers\n",
            "    if w.is_alive():\n",
            "  File \"/usr/lib/python3.8/multiprocessing/process.py\", line 160, in is_alive\n",
            "    assert self._parent_pid == os.getpid(), 'can only test a child process'\n",
            "AssertionError: can only test a child process\n",
            "100%|██████████| 469/469 [00:08<00:00, 55.44it/s]\n",
            "  9%|▊         | 41/469 [00:00<00:07, 59.51it/s]Exception ignored in: <function _MultiProcessingDataLoaderIter.__del__ at 0x7f7ec6ca59d0>\n",
            "Traceback (most recent call last):\n",
            "  File \"/usr/local/lib/python3.8/dist-packages/torch/utils/data/dataloader.py\", line 1466, in __del__\n",
            "    self._shutdown_workers()\n",
            "  File \"/usr/local/lib/python3.8/dist-packages/torch/utils/data/dataloader.py\", line 1449, in _shutdown_workers\n",
            "    if w.is_alive():\n",
            "  File \"/usr/lib/python3.8/multiprocessing/process.py\", line 160, in is_alive\n",
            "    assert self._parent_pid == os.getpid(), 'can only test a child process'\n",
            "AssertionError: can only test a child process\n",
            " 13%|█▎        | 60/469 [00:01<00:08, 49.59it/s]Exception ignored in: <function _MultiProcessingDataLoaderIter.__del__ at 0x7f7ec6ca59d0>\n",
            "Traceback (most recent call last):\n",
            "  File \"/usr/local/lib/python3.8/dist-packages/torch/utils/data/dataloader.py\", line 1466, in __del__\n",
            "    self._shutdown_workers()\n",
            "  File \"/usr/local/lib/python3.8/dist-packages/torch/utils/data/dataloader.py\", line 1449, in _shutdown_workers\n",
            "    if w.is_alive():\n",
            "  File \"/usr/lib/python3.8/multiprocessing/process.py\", line 160, in is_alive\n",
            "    assert self._parent_pid == os.getpid(), 'can only test a child process'\n",
            "AssertionError: can only test a child process\n",
            "100%|██████████| 469/469 [00:08<00:00, 58.36it/s]\n",
            " 10%|█         | 47/469 [00:00<00:07, 58.03it/s]Exception ignored in: <function _MultiProcessingDataLoaderIter.__del__ at 0x7f7ec6ca59d0>\n",
            "Traceback (most recent call last):\n",
            "  File \"/usr/local/lib/python3.8/dist-packages/torch/utils/data/dataloader.py\", line 1466, in __del__\n",
            "    self._shutdown_workers()\n",
            "  File \"/usr/local/lib/python3.8/dist-packages/torch/utils/data/dataloader.py\", line 1449, in _shutdown_workers\n",
            "    if w.is_alive():\n",
            "  File \"/usr/lib/python3.8/multiprocessing/process.py\", line 160, in is_alive\n",
            "    assert self._parent_pid == os.getpid(), 'can only test a child process'\n",
            "AssertionError: can only test a child process\n",
            " 14%|█▍        | 66/469 [00:01<00:08, 48.71it/s]Exception ignored in: <function _MultiProcessingDataLoaderIter.__del__ at 0x7f7ec6ca59d0>\n",
            "Traceback (most recent call last):\n",
            "  File \"/usr/local/lib/python3.8/dist-packages/torch/utils/data/dataloader.py\", line 1466, in __del__\n",
            "    self._shutdown_workers()\n",
            "  File \"/usr/local/lib/python3.8/dist-packages/torch/utils/data/dataloader.py\", line 1449, in _shutdown_workers\n",
            "    if w.is_alive():\n",
            "  File \"/usr/lib/python3.8/multiprocessing/process.py\", line 160, in is_alive\n",
            "    assert self._parent_pid == os.getpid(), 'can only test a child process'\n",
            "AssertionError: can only test a child process\n",
            "100%|██████████| 469/469 [00:08<00:00, 56.75it/s]\n",
            "  0%|          | 0/469 [00:00<?, ?it/s]Exception ignored in: Exception ignored in: <function _MultiProcessingDataLoaderIter.__del__ at 0x7f7ec6ca59d0><function _MultiProcessingDataLoaderIter.__del__ at 0x7f7ec6ca59d0>\n",
            "\n",
            "Traceback (most recent call last):\n",
            "Traceback (most recent call last):\n",
            "  File \"/usr/local/lib/python3.8/dist-packages/torch/utils/data/dataloader.py\", line 1466, in __del__\n",
            "  File \"/usr/local/lib/python3.8/dist-packages/torch/utils/data/dataloader.py\", line 1466, in __del__\n",
            "        self._shutdown_workers()\n",
            "  0%|          | 1/469 [00:00<02:33,  3.05it/s]  File \"/usr/local/lib/python3.8/dist-packages/torch/utils/data/dataloader.py\", line 1449, in _shutdown_workers\n",
            "    if w.is_alive():self._shutdown_workers()\n",
            "\n",
            "  File \"/usr/lib/python3.8/multiprocessing/process.py\", line 160, in is_alive\n",
            "  File \"/usr/local/lib/python3.8/dist-packages/torch/utils/data/dataloader.py\", line 1449, in _shutdown_workers\n",
            "        can only test a child processassert self._parent_pid == os.getpid(), 'can only test a child process'\n",
            "AssertionError: \n",
            "if w.is_alive():\n",
            "\n",
            "  File \"/usr/lib/python3.8/multiprocessing/process.py\", line 160, in is_alive\n",
            "    assert self._parent_pid == os.getpid(), 'can only test a child process'AssertionError: can only test a child process\n",
            "100%|██████████| 469/469 [00:09<00:00, 50.29it/s]\n",
            "  0%|          | 0/40 [00:00<?, ?it/s]Exception ignored in: Exception ignored in: <function _MultiProcessingDataLoaderIter.__del__ at 0x7f7ec6ca59d0><function _MultiProcessingDataLoaderIter.__del__ at 0x7f7ec6ca59d0>\n",
            "\n",
            "Traceback (most recent call last):\n",
            "  File \"/usr/local/lib/python3.8/dist-packages/torch/utils/data/dataloader.py\", line 1466, in __del__\n",
            "Traceback (most recent call last):\n",
            "  File \"/usr/local/lib/python3.8/dist-packages/torch/utils/data/dataloader.py\", line 1466, in __del__\n",
            "        self._shutdown_workers()\n",
            "  File \"/usr/local/lib/python3.8/dist-packages/torch/utils/data/dataloader.py\", line 1449, in _shutdown_workers\n",
            "    self._shutdown_workers()  File \"/usr/local/lib/python3.8/dist-packages/torch/utils/data/dataloader.py\", line 1449, in _shutdown_workers\n",
            "if w.is_alive():\n",
            "    if w.is_alive():\n",
            "\n",
            "  File \"/usr/lib/python3.8/multiprocessing/process.py\", line 160, in is_alive\n",
            "    assert self._parent_pid == os.getpid(), 'can only test a child process'  File \"/usr/lib/python3.8/multiprocessing/process.py\", line 160, in is_alive\n",
            "    assert self._parent_pid == os.getpid(), 'can only test a child process'\n",
            "\n",
            "AssertionErrorAssertionError: : can only test a child processcan only test a child process\n",
            "\n",
            "100%|██████████| 40/40 [00:01<00:00, 24.90it/s]\n"
          ]
        },
        {
          "output_type": "stream",
          "name": "stdout",
          "text": [
            "EPOCH 5, TRAIN_LOSS: 0.2671354507713684, TRAIN_ACC: 0.90045\n",
            "EPOCH 5, TEST_LOSS: 0.32585180550813675, TEST_ACC: 0.88250\n"
          ]
        },
        {
          "output_type": "stream",
          "name": "stderr",
          "text": [
            "100%|██████████| 469/469 [00:07<00:00, 60.70it/s]\n",
            "100%|██████████| 469/469 [00:07<00:00, 59.79it/s]\n",
            "100%|██████████| 469/469 [00:07<00:00, 60.11it/s]\n",
            "100%|██████████| 469/469 [00:07<00:00, 60.51it/s]\n",
            "100%|██████████| 469/469 [00:08<00:00, 52.28it/s]\n",
            "100%|██████████| 40/40 [00:01<00:00, 31.38it/s]\n"
          ]
        },
        {
          "output_type": "stream",
          "name": "stdout",
          "text": [
            "EPOCH 10, TRAIN_LOSS: 0.23105870694049133, TRAIN_ACC: 0.91292\n",
            "EPOCH 10, TEST_LOSS: 1.0977072352543473, TEST_ACC: 0.88590\n"
          ]
        },
        {
          "output_type": "stream",
          "name": "stderr",
          "text": [
            "100%|██████████| 469/469 [00:07<00:00, 60.48it/s]\n",
            "100%|██████████| 469/469 [00:07<00:00, 60.46it/s]\n",
            "100%|██████████| 469/469 [00:07<00:00, 60.42it/s]\n",
            "100%|██████████| 469/469 [00:07<00:00, 60.26it/s]\n",
            "100%|██████████| 469/469 [00:09<00:00, 52.04it/s]\n",
            "100%|██████████| 40/40 [00:01<00:00, 31.63it/s]\n"
          ]
        },
        {
          "output_type": "stream",
          "name": "stdout",
          "text": [
            "EPOCH 15, TRAIN_LOSS: 0.18328649147169424, TRAIN_ACC: 0.93088\n",
            "EPOCH 15, TEST_LOSS: 0.6465771943330765, TEST_ACC: 0.88860\n"
          ]
        },
        {
          "output_type": "stream",
          "name": "stderr",
          "text": [
            "100%|██████████| 469/469 [00:08<00:00, 55.94it/s]\n",
            "100%|██████████| 469/469 [00:07<00:00, 58.78it/s]\n",
            "100%|██████████| 469/469 [00:07<00:00, 59.90it/s]\n",
            "100%|██████████| 469/469 [00:07<00:00, 58.83it/s]\n",
            "100%|██████████| 469/469 [00:09<00:00, 51.43it/s]\n",
            "100%|██████████| 40/40 [00:01<00:00, 31.43it/s]\n"
          ]
        },
        {
          "output_type": "stream",
          "name": "stdout",
          "text": [
            "EPOCH 20, TRAIN_LOSS: 0.15683738036609407, TRAIN_ACC: 0.94133\n",
            "EPOCH 20, TEST_LOSS: 3.6564039427787067, TEST_ACC: 0.88450\n"
          ]
        },
        {
          "output_type": "stream",
          "name": "stderr",
          "text": [
            "100%|██████████| 469/469 [00:07<00:00, 60.64it/s]\n",
            "100%|██████████| 469/469 [00:07<00:00, 60.00it/s]\n",
            "100%|██████████| 469/469 [00:07<00:00, 60.25it/s]\n",
            "100%|██████████| 469/469 [00:07<00:00, 60.10it/s]\n",
            "100%|██████████| 469/469 [00:09<00:00, 51.63it/s]\n",
            "100%|██████████| 40/40 [00:01<00:00, 30.47it/s]\n"
          ]
        },
        {
          "output_type": "stream",
          "name": "stdout",
          "text": [
            "EPOCH 25, TRAIN_LOSS: 0.1285864019047604, TRAIN_ACC: 0.95155\n",
            "EPOCH 25, TEST_LOSS: 0.5809105090796948, TEST_ACC: 0.89140\n"
          ]
        },
        {
          "output_type": "stream",
          "name": "stderr",
          "text": [
            "100%|██████████| 469/469 [00:08<00:00, 58.62it/s]\n",
            "100%|██████████| 469/469 [00:08<00:00, 58.00it/s]\n",
            "100%|██████████| 469/469 [00:07<00:00, 58.76it/s]\n",
            "100%|██████████| 469/469 [00:07<00:00, 59.38it/s]\n",
            "100%|██████████| 469/469 [00:09<00:00, 50.56it/s]\n",
            "100%|██████████| 40/40 [00:01<00:00, 30.96it/s]\n"
          ]
        },
        {
          "output_type": "stream",
          "name": "stdout",
          "text": [
            "EPOCH 30, TRAIN_LOSS: 0.11114086287378121, TRAIN_ACC: 0.95767\n",
            "EPOCH 30, TEST_LOSS: 1.2364279676228762, TEST_ACC: 0.89310\n"
          ]
        },
        {
          "output_type": "stream",
          "name": "stderr",
          "text": [
            "100%|██████████| 469/469 [00:08<00:00, 54.52it/s]\n",
            "100%|██████████| 469/469 [00:07<00:00, 59.32it/s]\n",
            "100%|██████████| 469/469 [00:07<00:00, 58.81it/s]\n",
            "100%|██████████| 469/469 [00:07<00:00, 58.76it/s]\n",
            "100%|██████████| 469/469 [00:09<00:00, 51.74it/s]\n",
            "100%|██████████| 40/40 [00:01<00:00, 31.50it/s]\n"
          ]
        },
        {
          "output_type": "stream",
          "name": "stdout",
          "text": [
            "EPOCH 35, TRAIN_LOSS: 0.09378612110975074, TRAIN_ACC: 0.96478\n",
            "EPOCH 35, TEST_LOSS: 0.9430444560945034, TEST_ACC: 0.89150\n"
          ]
        },
        {
          "output_type": "stream",
          "name": "stderr",
          "text": [
            "100%|██████████| 469/469 [00:07<00:00, 59.74it/s]\n",
            "100%|██████████| 469/469 [00:07<00:00, 59.47it/s]\n",
            "100%|██████████| 469/469 [00:07<00:00, 59.52it/s]\n",
            "100%|██████████| 469/469 [00:07<00:00, 59.47it/s]\n",
            "100%|██████████| 469/469 [00:09<00:00, 51.29it/s]\n",
            "100%|██████████| 40/40 [00:01<00:00, 31.43it/s]\n"
          ]
        },
        {
          "output_type": "stream",
          "name": "stdout",
          "text": [
            "EPOCH 40, TRAIN_LOSS: 0.08202905521622852, TRAIN_ACC: 0.96913\n",
            "EPOCH 40, TEST_LOSS: 1.120603683590889, TEST_ACC: 0.89330\n"
          ]
        },
        {
          "output_type": "stream",
          "name": "stderr",
          "text": [
            "100%|██████████| 469/469 [00:08<00:00, 58.58it/s]\n",
            "100%|██████████| 469/469 [00:07<00:00, 60.24it/s]\n",
            "100%|██████████| 469/469 [00:07<00:00, 59.96it/s]\n",
            "100%|██████████| 469/469 [00:07<00:00, 59.90it/s]\n",
            "100%|██████████| 469/469 [00:09<00:00, 51.13it/s]\n",
            "100%|██████████| 40/40 [00:01<00:00, 30.68it/s]\n"
          ]
        },
        {
          "output_type": "stream",
          "name": "stdout",
          "text": [
            "EPOCH 45, TRAIN_LOSS: 0.07334653167987365, TRAIN_ACC: 0.97265\n",
            "EPOCH 45, TEST_LOSS: 0.9332311458885669, TEST_ACC: 0.89550\n"
          ]
        },
        {
          "output_type": "stream",
          "name": "stderr",
          "text": [
            "100%|██████████| 469/469 [00:08<00:00, 54.08it/s]\n",
            "100%|██████████| 469/469 [00:07<00:00, 59.11it/s]\n",
            "100%|██████████| 469/469 [00:07<00:00, 60.09it/s]\n",
            "100%|██████████| 469/469 [00:07<00:00, 59.46it/s]\n",
            "100%|██████████| 469/469 [00:08<00:00, 52.55it/s]\n",
            "100%|██████████| 40/40 [00:01<00:00, 31.40it/s]\n"
          ]
        },
        {
          "output_type": "stream",
          "name": "stdout",
          "text": [
            "EPOCH 50, TRAIN_LOSS: 0.064594681305227, TRAIN_ACC: 0.97590\n",
            "EPOCH 50, TEST_LOSS: 1.3678183630108833, TEST_ACC: 0.89190\n"
          ]
        },
        {
          "output_type": "stream",
          "name": "stderr",
          "text": [
            "100%|██████████| 469/469 [00:07<00:00, 60.89it/s]\n",
            "100%|██████████| 469/469 [00:07<00:00, 61.04it/s]\n",
            "100%|██████████| 469/469 [00:07<00:00, 60.23it/s]\n",
            "100%|██████████| 469/469 [00:07<00:00, 61.20it/s]\n"
          ]
        }
      ],
      "source": [
        "model = OverfittingNeuralNetwork().to(device)\n",
        "opt = torch.optim.AdamW(model.parameters(), lr=1e-2, weight_decay=1e-5)\n",
        "loss_func = nn.CrossEntropyLoss()\n",
        "\n",
        "EPOCHS = 55\n",
        "\n",
        "best_val_loss = np.inf\n",
        "train_acc_arr = []\n",
        "test_acc_arr = []\n",
        "\n",
        "for epoch in range(EPOCHS):\n",
        "\n",
        "  model.train()\n",
        "  training_loss = 0.0\n",
        "  train_correct = 0\n",
        "  train_total = 0 \n",
        "\n",
        "  for batch, label in tqdm(train_loader):\n",
        "\n",
        "    opt.zero_grad()\n",
        "    batch = batch.to(device)\n",
        "    label = label.to(device)\n",
        "    pred = model(batch)\n",
        "\n",
        "    loss = loss_func(pred, label)\n",
        "    loss.backward()\n",
        "    opt.step()\n",
        "\n",
        "    if epoch % 5 == 0:\n",
        "\n",
        "      for x, target in zip(torch.argmax(pred,axis = 1), label): #max score for each again\n",
        "\n",
        "        if x == target:\n",
        "\n",
        "          train_correct += 1\n",
        "\n",
        "        train_total += 1\n",
        "\n",
        "    training_loss += loss.item()\n",
        "  \n",
        "  \n",
        "  if epoch % 5 == 0:\n",
        "\n",
        "    train_acc = train_correct/train_total\n",
        "    train_acc_arr.append(train_acc)\n",
        "    valid_loss = 0.0\n",
        "    correct = 0\n",
        "    total = 0\n",
        "    model.eval()\n",
        "\n",
        "    for batch, label in tqdm(test_loader):\n",
        "\n",
        "      with torch.no_grad():\n",
        "        batch = batch.to(device)\n",
        "        label = label.to(device)\n",
        "        pred = model(batch)\n",
        "\n",
        "        for x, target in zip(torch.argmax(pred,axis = 1), label):\n",
        "          if x == target:\n",
        "              correct += 1\n",
        "          total += 1\n",
        "      \n",
        "        loss = loss_func(pred, label)\n",
        "        valid_loss += loss.item()\n",
        "    test_acc = correct/total\n",
        "    test_acc_arr.append(test_acc)\n",
        "    valid_loss = valid_loss / len(test_loader)\n",
        "\n",
        "    print(f\"EPOCH {epoch}, TRAIN_LOSS: {training_loss/len(train_loader)}, TRAIN_ACC: {train_acc:.5f}\")\n",
        "    print(f\"EPOCH {epoch}, TEST_LOSS: {valid_loss}, TEST_ACC: {test_acc:.5f}\")    "
      ]
    },
    {
      "cell_type": "code",
      "source": [
        "fig = plt.figure(figsize=(11,5))\n",
        "plt.plot(range(1,len(train_acc_arr)+1), train_acc_arr, label='Train')\n",
        "plt.plot(range(1,len(test_acc_arr)+1), test_acc_arr, label='Validation')\n",
        "\n",
        "plt.xlabel('# of Epochs')\n",
        "plt.ylabel('Accurracy')\n",
        "plt.legend()\n",
        "plt.tight_layout()\n",
        "plt.show()"
      ],
      "metadata": {
        "colab": {
          "base_uri": "https://localhost:8080/",
          "height": 369
        },
        "id": "iAQw_B_IsMCC",
        "outputId": "01fb3d7f-a1b5-47ab-c8c4-a2ef777422d6"
      },
      "execution_count": 69,
      "outputs": [
        {
          "output_type": "display_data",
          "data": {
            "text/plain": [
              "<Figure size 792x360 with 1 Axes>"
            ],
            "image/png": "[encoded data removed]"
          },
          "metadata": {
            "needs_background": "light"
          }
        }
      ]
    },
    {
      "cell_type": "markdown",
      "metadata": {
        "id": "cc0fFWjMjJUU"
      },
      "source": [
        "### Task 3: Fix it.\n",
        "Fix the overfitted network from the previous step (at least partially) by using regularization techniques (Dropout/Batchnorm/...) and demonstrate the results. "
      ]
    },
    {
      "cell_type": "code",
      "execution_count": 70,
      "metadata": {
        "id": "ESqf6tW9jJUU"
      },
      "outputs": [],
      "source": [
        "class FixedNeuralNetwork(nn.Module):\n",
        "    def __init__(self, input_shape=28*28, num_classes=10, input_channels=1):\n",
        "\n",
        "        super(self.__class__, self).__init__()\n",
        "\n",
        "        self.model = nn.Sequential(\n",
        "            nn.Flatten(),\n",
        "            nn.BatchNorm1d(input_shape),\n",
        "            nn.Dropout1d(0.05),\n",
        "            nn.Linear(input_shape, 512),\n",
        "            nn.ReLU(),\n",
        "            nn.BatchNorm1d(512),\n",
        "            nn.Dropout1d(0.05),\n",
        "            nn.Linear(512, 64),\n",
        "            nn.ReLU(),\n",
        "            nn.BatchNorm1d(64),\n",
        "            nn.Dropout1d(0.05),\n",
        "            nn.Linear(64, 32),\n",
        "            nn.ReLU(),\n",
        "            nn.BatchNorm1d(32),\n",
        "            nn.Dropout1d(0.05),\n",
        "            nn.Linear(32, num_classes)\n",
        "        )\n",
        "\n",
        "    def forward(self, inp):       \n",
        "        out = self.model(inp)\n",
        "        return out\n"
      ]
    },
    {
      "cell_type": "code",
      "execution_count": 71,
      "metadata": {
        "colab": {
          "base_uri": "https://localhost:8080/"
        },
        "id": "68NVLLI1jJUV",
        "outputId": "f15aa24d-8b8c-43c2-ad66-4ba546dc05ab"
      },
      "outputs": [
        {
          "output_type": "stream",
          "name": "stdout",
          "text": [
            "----------------------------------------------------------------\n",
            "        Layer (type)               Output Shape         Param #\n",
            "================================================================\n",
            "           Flatten-1                  [-1, 784]               0\n",
            "       BatchNorm1d-2                  [-1, 784]           1,568\n",
            "         Dropout1d-3                  [-1, 784]               0\n",
            "            Linear-4                  [-1, 512]         401,920\n",
            "              ReLU-5                  [-1, 512]               0\n",
            "       BatchNorm1d-6                  [-1, 512]           1,024\n",
            "         Dropout1d-7                  [-1, 512]               0\n",
            "            Linear-8                   [-1, 64]          32,832\n",
            "              ReLU-9                   [-1, 64]               0\n",
            "      BatchNorm1d-10                   [-1, 64]             128\n",
            "        Dropout1d-11                   [-1, 64]               0\n",
            "           Linear-12                   [-1, 32]           2,080\n",
            "             ReLU-13                   [-1, 32]               0\n",
            "      BatchNorm1d-14                   [-1, 32]              64\n",
            "        Dropout1d-15                   [-1, 32]               0\n",
            "           Linear-16                   [-1, 10]             330\n",
            "================================================================\n",
            "Total params: 439,946\n",
            "Trainable params: 439,946\n",
            "Non-trainable params: 0\n",
            "----------------------------------------------------------------\n",
            "Input size (MB): 0.00\n",
            "Forward/backward pass size (MB): 0.04\n",
            "Params size (MB): 1.68\n",
            "Estimated Total Size (MB): 1.72\n",
            "----------------------------------------------------------------\n"
          ]
        }
      ],
      "source": [
        "torchsummary.summary(FixedNeuralNetwork().to(device), (28*28,))"
      ]
    },
    {
      "cell_type": "code",
      "execution_count": 72,
      "metadata": {
        "colab": {
          "base_uri": "https://localhost:8080/"
        },
        "id": "uns8kQqEjJUV",
        "outputId": "27bc146d-9e66-4bc0-a891-eca9d3199d88"
      },
      "outputs": [
        {
          "output_type": "stream",
          "name": "stderr",
          "text": [
            "100%|██████████| 469/469 [00:09<00:00, 51.20it/s]\n",
            "100%|██████████| 40/40 [00:01<00:00, 31.71it/s]\n"
          ]
        },
        {
          "output_type": "stream",
          "name": "stdout",
          "text": [
            "EPOCH 0, TRAIN_LOSS: 0.8299722475792045, TRAIN_ACC: 0.69135\n",
            "EPOCH 0, TEST_LOSS: 0.4267018582671881, TEST_ACC: 0.84850\n"
          ]
        },
        {
          "output_type": "stream",
          "name": "stderr",
          "text": [
            "100%|██████████| 469/469 [00:07<00:00, 59.46it/s]\n",
            "100%|██████████| 469/469 [00:07<00:00, 59.29it/s]\n",
            "100%|██████████| 469/469 [00:07<00:00, 59.33it/s]\n",
            "100%|██████████| 469/469 [00:07<00:00, 58.88it/s]\n",
            "100%|██████████| 469/469 [00:09<00:00, 51.70it/s]\n",
            "100%|██████████| 40/40 [00:01<00:00, 31.21it/s]\n"
          ]
        },
        {
          "output_type": "stream",
          "name": "stdout",
          "text": [
            "EPOCH 5, TRAIN_LOSS: 0.662358378804823, TRAIN_ACC: 0.74767\n",
            "EPOCH 5, TEST_LOSS: 0.3392852574586868, TEST_ACC: 0.87510\n"
          ]
        },
        {
          "output_type": "stream",
          "name": "stderr",
          "text": [
            "100%|██████████| 469/469 [00:08<00:00, 54.96it/s]\n",
            "100%|██████████| 469/469 [00:07<00:00, 59.12it/s]\n",
            "100%|██████████| 469/469 [00:07<00:00, 58.79it/s]\n",
            "100%|██████████| 469/469 [00:07<00:00, 58.65it/s]\n",
            "100%|██████████| 469/469 [00:09<00:00, 51.10it/s]\n",
            "100%|██████████| 40/40 [00:01<00:00, 31.82it/s]\n"
          ]
        },
        {
          "output_type": "stream",
          "name": "stdout",
          "text": [
            "EPOCH 10, TRAIN_LOSS: 0.6189501004051298, TRAIN_ACC: 0.76335\n",
            "EPOCH 10, TEST_LOSS: 0.3237745001912117, TEST_ACC: 0.88040\n"
          ]
        },
        {
          "output_type": "stream",
          "name": "stderr",
          "text": [
            "100%|██████████| 469/469 [00:08<00:00, 58.00it/s]\n",
            "100%|██████████| 469/469 [00:07<00:00, 58.78it/s]\n",
            "100%|██████████| 469/469 [00:07<00:00, 59.13it/s]\n",
            "100%|██████████| 469/469 [00:07<00:00, 59.28it/s]\n",
            "100%|██████████| 469/469 [00:09<00:00, 50.88it/s]\n",
            "100%|██████████| 40/40 [00:01<00:00, 31.58it/s]\n"
          ]
        },
        {
          "output_type": "stream",
          "name": "stdout",
          "text": [
            "EPOCH 15, TRAIN_LOSS: 0.5838133629196997, TRAIN_ACC: 0.77638\n",
            "EPOCH 15, TEST_LOSS: 0.3246070017572492, TEST_ACC: 0.89050\n"
          ]
        },
        {
          "output_type": "stream",
          "name": "stderr",
          "text": [
            "100%|██████████| 469/469 [00:07<00:00, 59.34it/s]\n",
            "100%|██████████| 469/469 [00:07<00:00, 59.92it/s]\n",
            "100%|██████████| 469/469 [00:07<00:00, 59.53it/s]\n",
            "100%|██████████| 469/469 [00:07<00:00, 59.72it/s]\n",
            "100%|██████████| 469/469 [00:09<00:00, 51.31it/s]\n",
            "100%|██████████| 40/40 [00:01<00:00, 31.97it/s]\n"
          ]
        },
        {
          "output_type": "stream",
          "name": "stdout",
          "text": [
            "EPOCH 20, TRAIN_LOSS: 0.558347599020899, TRAIN_ACC: 0.78588\n",
            "EPOCH 20, TEST_LOSS: 0.352136486582458, TEST_ACC: 0.88840\n"
          ]
        },
        {
          "output_type": "stream",
          "name": "stderr",
          "text": [
            "100%|██████████| 469/469 [00:08<00:00, 55.60it/s]\n",
            "100%|██████████| 469/469 [00:07<00:00, 59.56it/s]\n",
            "100%|██████████| 469/469 [00:07<00:00, 59.53it/s]\n",
            "100%|██████████| 469/469 [00:07<00:00, 59.88it/s]\n",
            "100%|██████████| 469/469 [00:09<00:00, 51.73it/s]\n",
            "100%|██████████| 40/40 [00:01<00:00, 31.29it/s]\n"
          ]
        },
        {
          "output_type": "stream",
          "name": "stdout",
          "text": [
            "EPOCH 25, TRAIN_LOSS: 0.5432970825670116, TRAIN_ACC: 0.79170\n",
            "EPOCH 25, TEST_LOSS: 0.3283302075229585, TEST_ACC: 0.88800\n"
          ]
        },
        {
          "output_type": "stream",
          "name": "stderr",
          "text": [
            "100%|██████████| 469/469 [00:07<00:00, 59.66it/s]\n",
            "100%|██████████| 469/469 [00:07<00:00, 60.05it/s]\n",
            "100%|██████████| 469/469 [00:07<00:00, 60.80it/s]\n",
            "100%|██████████| 469/469 [00:07<00:00, 59.89it/s]\n",
            "100%|██████████| 469/469 [00:09<00:00, 51.55it/s]\n",
            "100%|██████████| 40/40 [00:01<00:00, 31.87it/s]\n"
          ]
        },
        {
          "output_type": "stream",
          "name": "stdout",
          "text": [
            "EPOCH 30, TRAIN_LOSS: 0.5312238958979975, TRAIN_ACC: 0.79705\n",
            "EPOCH 30, TEST_LOSS: 0.6328180979937315, TEST_ACC: 0.89030\n"
          ]
        },
        {
          "output_type": "stream",
          "name": "stderr",
          "text": [
            "100%|██████████| 469/469 [00:07<00:00, 60.06it/s]\n",
            "100%|██████████| 469/469 [00:07<00:00, 60.55it/s]\n",
            "100%|██████████| 469/469 [00:07<00:00, 59.63it/s]\n",
            "100%|██████████| 469/469 [00:07<00:00, 60.24it/s]\n",
            "100%|██████████| 469/469 [00:09<00:00, 51.87it/s]\n",
            "100%|██████████| 40/40 [00:01<00:00, 32.36it/s]\n"
          ]
        },
        {
          "output_type": "stream",
          "name": "stdout",
          "text": [
            "EPOCH 35, TRAIN_LOSS: 0.5183199179261478, TRAIN_ACC: 0.80165\n",
            "EPOCH 35, TEST_LOSS: 0.529278003424406, TEST_ACC: 0.89270\n"
          ]
        },
        {
          "output_type": "stream",
          "name": "stderr",
          "text": [
            "100%|██████████| 469/469 [00:08<00:00, 55.81it/s]\n",
            "100%|██████████| 469/469 [00:07<00:00, 60.07it/s]\n",
            "100%|██████████| 469/469 [00:07<00:00, 60.55it/s]\n",
            "100%|██████████| 469/469 [00:07<00:00, 59.59it/s]\n",
            "100%|██████████| 469/469 [00:09<00:00, 51.30it/s]\n",
            "100%|██████████| 40/40 [00:01<00:00, 32.43it/s]\n"
          ]
        },
        {
          "output_type": "stream",
          "name": "stdout",
          "text": [
            "EPOCH 40, TRAIN_LOSS: 0.5057730168930249, TRAIN_ACC: 0.80605\n",
            "EPOCH 40, TEST_LOSS: 8.460944811627268, TEST_ACC: 0.89100\n"
          ]
        },
        {
          "output_type": "stream",
          "name": "stderr",
          "text": [
            "100%|██████████| 469/469 [00:07<00:00, 60.35it/s]\n",
            "100%|██████████| 469/469 [00:07<00:00, 60.04it/s]\n",
            "100%|██████████| 469/469 [00:07<00:00, 60.54it/s]\n",
            "100%|██████████| 469/469 [00:07<00:00, 60.04it/s]\n",
            "100%|██████████| 469/469 [00:09<00:00, 51.64it/s]\n",
            "100%|██████████| 40/40 [00:01<00:00, 31.68it/s]\n"
          ]
        },
        {
          "output_type": "stream",
          "name": "stdout",
          "text": [
            "EPOCH 45, TRAIN_LOSS: 0.49876563915057476, TRAIN_ACC: 0.80908\n",
            "EPOCH 45, TEST_LOSS: 5.719187060371041, TEST_ACC: 0.88540\n"
          ]
        },
        {
          "output_type": "stream",
          "name": "stderr",
          "text": [
            "100%|██████████| 469/469 [00:07<00:00, 59.80it/s]\n",
            "100%|██████████| 469/469 [00:07<00:00, 60.16it/s]\n",
            "100%|██████████| 469/469 [00:07<00:00, 59.32it/s]\n",
            "100%|██████████| 469/469 [00:07<00:00, 59.44it/s]\n",
            "100%|██████████| 469/469 [00:08<00:00, 52.32it/s]\n",
            "100%|██████████| 40/40 [00:01<00:00, 32.27it/s]\n"
          ]
        },
        {
          "output_type": "stream",
          "name": "stdout",
          "text": [
            "EPOCH 50, TRAIN_LOSS: 0.4961372436617992, TRAIN_ACC: 0.80843\n",
            "EPOCH 50, TEST_LOSS: 1.0602049658074975, TEST_ACC: 0.89160\n"
          ]
        },
        {
          "output_type": "stream",
          "name": "stderr",
          "text": [
            "100%|██████████| 469/469 [00:08<00:00, 56.12it/s]\n",
            "100%|██████████| 469/469 [00:07<00:00, 60.01it/s]\n",
            "100%|██████████| 469/469 [00:07<00:00, 60.68it/s]\n",
            "100%|██████████| 469/469 [00:07<00:00, 59.52it/s]\n"
          ]
        }
      ],
      "source": [
        "model = FixedNeuralNetwork().to(device)\n",
        "opt = torch.optim.AdamW(model.parameters(), lr=1e-2, weight_decay=1e-5)\n",
        "loss_func = nn.CrossEntropyLoss()\n",
        "\n",
        "EPOCHS = 55\n",
        "\n",
        "best_val_loss = np.inf\n",
        "train_acc_arr = []\n",
        "test_acc_arr = []\n",
        "\n",
        "for epoch in range(EPOCHS):\n",
        "\n",
        "  model.train()\n",
        "  training_loss = 0.0\n",
        "  train_correct = 0\n",
        "  train_total = 0 \n",
        "\n",
        "  for batch, label in tqdm(train_loader):\n",
        "\n",
        "    opt.zero_grad()\n",
        "    batch = batch.to(device)\n",
        "    label = label.to(device)\n",
        "    pred = model(batch)\n",
        "\n",
        "    loss = loss_func(pred, label)\n",
        "    loss.backward()\n",
        "    opt.step()\n",
        "\n",
        "    if epoch % 5 == 0:\n",
        "\n",
        "      for x, target in zip(torch.argmax(pred,axis = 1), label): #max score for each again\n",
        "\n",
        "        if x == target:\n",
        "\n",
        "          train_correct += 1\n",
        "\n",
        "        train_total += 1\n",
        "\n",
        "    training_loss += loss.item()\n",
        "  \n",
        "  \n",
        "  if epoch % 5 == 0:\n",
        "\n",
        "    train_acc = train_correct/train_total\n",
        "    train_acc_arr.append(train_acc)\n",
        "    valid_loss = 0.0\n",
        "    correct = 0\n",
        "    total = 0\n",
        "    model.eval()\n",
        "\n",
        "    for batch, label in tqdm(test_loader):\n",
        "\n",
        "      with torch.no_grad():\n",
        "        batch = batch.to(device)\n",
        "        label = label.to(device)\n",
        "        pred = model(batch)\n",
        "\n",
        "        for x, target in zip(torch.argmax(pred,axis = 1), label):\n",
        "          if x == target:\n",
        "              correct += 1\n",
        "          total += 1\n",
        "      \n",
        "        loss = loss_func(pred, label)\n",
        "        valid_loss += loss.item()\n",
        "    test_acc = correct/total\n",
        "    test_acc_arr.append(test_acc)\n",
        "    valid_loss = valid_loss / len(test_loader)\n",
        "\n",
        "    print(f\"EPOCH {epoch}, TRAIN_LOSS: {training_loss/len(train_loader)}, TRAIN_ACC: {train_acc:.5f}\")\n",
        "    print(f\"EPOCH {epoch}, TEST_LOSS: {valid_loss}, TEST_ACC: {test_acc:.5f}\")    "
      ]
    },
    {
      "cell_type": "code",
      "source": [
        "fig = plt.figure(figsize=(11,5))\n",
        "plt.plot(range(1,len(train_acc_arr)+1), train_acc_arr, label='Train')\n",
        "plt.plot(range(1,len(test_acc_arr)+1), test_acc_arr, label='Validation')\n",
        "\n",
        "plt.xlabel('# of Epochs')\n",
        "plt.ylabel('Accurracy')\n",
        "plt.legend()\n",
        "plt.tight_layout()\n",
        "plt.show()"
      ],
      "metadata": {
        "colab": {
          "base_uri": "https://localhost:8080/",
          "height": 369
        },
        "id": "tss9zKhfsacv",
        "outputId": "f7f315b9-9982-4eed-831a-c1e6c6f0b8a0"
      },
      "execution_count": 73,
      "outputs": [
        {
          "output_type": "display_data",
          "data": {
            "text/plain": [
              "<Figure size 792x360 with 1 Axes>"
            ],
            "image/png": "[encoded data removed]"
          },
          "metadata": {
            "needs_background": "light"
          }
        }
      ]
    },
    {
      "cell_type": "markdown",
      "metadata": {
        "id": "dMui_uLJ7G0d"
      },
      "source": [
        "### Conclusions:\n",
        "_We got good quality models on a large dataset.\n",
        " With the addition of dropouts, batchnorm we did not greatly improve the overfitted model._"
      ]
    }
  ],
  "metadata": {
    "accelerator": "GPU",
    "colab": {
      "name": "Overfit it.ipynb",
      "provenance": []
    },
    "kernelspec": {
      "display_name": "Python 3",
      "language": "python",
      "name": "python3"
    },
    "language_info": {
      "codemirror_mode": {
        "name": "ipython",
        "version": 3
      },
      "file_extension": ".py",
      "mimetype": "text/x-python",
      "name": "python",
      "nbconvert_exporter": "python",
      "pygments_lexer": "ipython3",
      "version": "3.7.7"
    }
  },
  "nbformat": 4,
  "nbformat_minor": 0
}